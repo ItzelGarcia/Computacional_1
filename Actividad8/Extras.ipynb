{
 "cells": [
  {
   "cell_type": "code",
   "execution_count": 6,
   "metadata": {},
   "outputs": [],
   "source": [
    "#Vamos a jugar con diferentes valores iniciales para observar si cambian la fase como la que podemos observar en Image1.png\n",
    "0.#Vamos a crear un vectorfield con las ecuaciones de Van der Pol, basándonos en un código para las ecuaciones de Lotka-Volterra\n",
    "from numpy import *\n",
    "from scipy.integrate import odeint \n",
    "\n",
    "def dX_dt(w, t=0, p=0):\n",
    "    \n",
    "    x, y = w\n",
    "    \n",
    "    \n",
    "    \"\"\" Return the ecuation for the Van der Pol oscillator.  \"\"\"\n",
    "    f = [ y,  p * (1 - x ** 2) * y - x]\n",
    "    \n",
    "    return f"
   ]
  },
  {
   "cell_type": "code",
   "execution_count": 10,
   "metadata": {},
   "outputs": [],
   "source": [
    "#Para la gráfica de fase, vamosa  crear nuevos documentos con diferentes condiciones inicales\n",
    "#para llamarlas todas en una misma celda de gráfica.\n",
    "\n",
    "#cambio de variables 1\n",
    "mu = 2.0\n",
    "\n",
    "#cambio de soluciones iniciales\n",
    "x = -6\n",
    "y = -3\n",
    "\n",
    "# Parametros de la ED\n",
    "abserr = 1.0e-8\n",
    "relerr = 1.0e-6\n",
    "stoptime = 170.0\n",
    "numpoints = 5000\n",
    "\n",
    "t = [stoptime * float(i) / (numpoints - 1) for i in range(numpoints)]\n",
    "\n",
    "#Ponemos las variables del vector:\n",
    "w0 = [x, y]\n",
    "\n",
    "# Llamamos a la funcion para resolver la ED\n",
    "wsol = odeint(dX_dt, w0, t, args=(mu,),\n",
    "              atol=abserr, rtol=relerr)\n",
    "\n",
    "with open('Act8.2.1.dat', 'w') as f:\n",
    "    # Imprimimos en el documento la solución\n",
    "    for t1, w1 in zip(t, wsol):\n",
    "        print (t1, w1[0], w1[1], file=f)\n"
   ]
  },
  {
   "cell_type": "code",
   "execution_count": 11,
   "metadata": {},
   "outputs": [],
   "source": [
    "#cambio de variables 2\n",
    "mu = 2.0\n",
    "\n",
    "#cambio de soluciones iniciales\n",
    "x = 1.0\n",
    "y = -4.0\n",
    "\n",
    "#Ponemos las variables del vector:\n",
    "w0 = [x, y]\n",
    "\n",
    "# Llamamos a la funcion para resolver la ED\n",
    "wsol = odeint(dX_dt, w0, t, args=(mu,),\n",
    "              atol=abserr, rtol=relerr)\n",
    "\n",
    "with open('Act8.2.2.dat', 'w') as f:\n",
    "    # Imprimimos en el documento la solución\n",
    "    for t1, w1 in zip(t, wsol):\n",
    "        print (t1, w1[0], w1[1], file=f)"
   ]
  },
  {
   "cell_type": "code",
   "execution_count": 12,
   "metadata": {},
   "outputs": [],
   "source": [
    "#cambio de variables 3\n",
    "mu = 2.0\n",
    "\n",
    "#cambio de soluciones iniciales\n",
    "x = -5.0\n",
    "y = -7.0\n",
    "\n",
    "#Ponemos las variables del vector:\n",
    "w0 = [x, y]\n",
    "\n",
    "# Llamamos a la funcion para resolver la ED\n",
    "wsol = odeint(dX_dt, w0, t, args=(mu,),\n",
    "              atol=abserr, rtol=relerr)\n",
    "\n",
    "with open('Act8.2.3.dat', 'w') as f:\n",
    "    # Imprimimos en el documento la solución\n",
    "    for t1, w1 in zip(t, wsol):\n",
    "        print (t1, w1[0], w1[1], file=f)"
   ]
  },
  {
   "cell_type": "code",
   "execution_count": 15,
   "metadata": {},
   "outputs": [
    {
     "data": {
      "image/png": "[encoded data removed]",
      "text/plain": [
       "<matplotlib.figure.Figure at 0x7f3449bb1710>"
      ]
     },
     "metadata": {},
     "output_type": "display_data"
    }
   ],
   "source": [
    "from pylab import figure, plot, xlabel, xlim, ylim, ylabel, grid, hold, legend, title, savefig\n",
    "%matplotlib inline\n",
    "\n",
    "f1= figure()\n",
    "\n",
    "#Var. 1\n",
    "t, x, y = loadtxt('Act8.2.1.dat', unpack=True)\n",
    "plot(x, y, 'b-')\n",
    "\n",
    "grid()\n",
    "xlim(-10,10)\n",
    "ylim(-10, 10)\n",
    "xlabel('x')\n",
    "ylabel('y')\n",
    "title('Phase portrait of the unforced Van der Pol oscillator')\n",
    "f1.savefig('Image1.1.png')"
   ]
  },
  {
   "cell_type": "code",
   "execution_count": 16,
   "metadata": {},
   "outputs": [
    {
     "data": {
      "image/png": "[encoded data removed]",
      "text/plain": [
       "<matplotlib.figure.Figure at 0x7f3449b1b160>"
      ]
     },
     "metadata": {},
     "output_type": "display_data"
    }
   ],
   "source": [
    "from pylab import figure, plot, xlabel, xlim, ylim, ylabel, grid, hold, legend, title, savefig\n",
    "%matplotlib inline\n",
    "\n",
    "f1= figure()\n",
    "\n",
    "#Var. 2\n",
    "t, x, y = loadtxt('Act8.2.2.dat', unpack=True)\n",
    "plot(x, y, 'b-')\n",
    "\n",
    "grid()\n",
    "xlim(-10,10)\n",
    "ylim(-10, 10)\n",
    "xlabel('x')\n",
    "ylabel('y')\n",
    "title('Phase portrait of the unforced Van der Pol oscillator')\n",
    "f1.savefig('Image1.2.png')"
   ]
  },
  {
   "cell_type": "code",
   "execution_count": 17,
   "metadata": {},
   "outputs": [
    {
     "data": {
      "image/png": "[encoded data removed]",
      "text/plain": [
       "<matplotlib.figure.Figure at 0x7f34499f5978>"
      ]
     },
     "metadata": {},
     "output_type": "display_data"
    }
   ],
   "source": [
    "from pylab import figure, plot, xlabel, xlim, ylim, ylabel, grid, hold, legend, title, savefig\n",
    "%matplotlib inline\n",
    "\n",
    "f1= figure()\n",
    "\n",
    "#Var. 3\n",
    "t, x, y = loadtxt('Act8.2.3.dat', unpack=True)\n",
    "plot(x, y, 'b-')\n",
    "\n",
    "grid()\n",
    "xlim(-10,10)\n",
    "ylim(-10, 10)\n",
    "xlabel('x')\n",
    "ylabel('y')\n",
    "title('Phase portrait of the unforced Van der Pol oscillator')\n",
    "f1.savefig('Image1.3.png')"
   ]
  },
  {
   "cell_type": "code",
   "execution_count": null,
   "metadata": {},
   "outputs": [],
   "source": []
  }
 ],
 "metadata": {
  "kernelspec": {
   "display_name": "Python 3",
   "language": "python",
   "name": "python3"
  },
  "language_info": {
   "codemirror_mode": {
    "name": "ipython",
    "version": 3
   },
   "file_extension": ".py",
   "mimetype": "text/x-python",
   "name": "python",
   "nbconvert_exporter": "python",
   "pygments_lexer": "ipython3",
   "version": "3.6.3"
  }
 },
 "nbformat": 4,
 "nbformat_minor": 2
}
